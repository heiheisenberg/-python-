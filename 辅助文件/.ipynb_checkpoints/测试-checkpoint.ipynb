{
 "cells": [
  {
   "cell_type": "code",
   "execution_count": null,
   "metadata": {},
   "outputs": [
    {
     "name": "stderr",
     "output_type": "stream",
     "text": [
      "Exception in thread Thread-7:\n",
      "Traceback (most recent call last):\n",
      "  File \"d:\\python\\lib\\threading.py\", line 917, in _bootstrap_inner\n",
      "    self.run()\n",
      "  File \"<ipython-input-1-aa6b189748f1>\", line 13, in run\n",
      "    for item in get_number():\n",
      "  File \"<ipython-input-1-aa6b189748f1>\", line 5, in get_number\n",
      "    for i in rang(100):\n",
      "NameError: name 'rang' is not defined\n",
      "Exception in thread Thread-9:\n",
      "Traceback (most recent call last):\n",
      "  File \"d:\\python\\lib\\threading.py\", line 917, in _bootstrap_inner\n",
      "    self.run()\n",
      "  File \"<ipython-input-1-aa6b189748f1>\", line 13, in run\n",
      "    for item in get_number():\n",
      "  File \"<ipython-input-1-aa6b189748f1>\", line 5, in get_number\n",
      "    for i in rang(100):\n",
      "NameError: name 'rang' is not defined\n",
      "\n",
      "Exception in thread Thread-6:\n",
      "Traceback (most recent call last):\n",
      "  File \"d:\\python\\lib\\threading.py\", line 917, in _bootstrap_inner\n",
      "    self.run()\n",
      "  File \"<ipython-input-1-aa6b189748f1>\", line 13, in run\n",
      "    for item in get_number():\n",
      "  File \"<ipython-input-1-aa6b189748f1>\", line 5, in get_number\n",
      "    for i in rang(100):\n",
      "NameError: name 'rang' is not defined\n",
      "\n",
      "Exception in thread Thread-8:\n",
      "Traceback (most recent call last):\n",
      "  File \"d:\\python\\lib\\threading.py\", line 917, in _bootstrap_inner\n",
      "    self.run()\n",
      "  File \"<ipython-input-1-aa6b189748f1>\", line 13, in run\n",
      "    for item in get_number():\n",
      "  File \"<ipython-input-1-aa6b189748f1>\", line 5, in get_number\n",
      "    for i in rang(100):\n",
      "NameError: name 'rang' is not defined\n",
      "\n",
      "\n",
      "Exception in thread Thread-10:\n",
      "Traceback (most recent call last):\n",
      "  File \"d:\\python\\lib\\threading.py\", line 917, in _bootstrap_inner\n",
      "    self.run()\n",
      "  File \"<ipython-input-1-aa6b189748f1>\", line 13, in run\n",
      "    for item in get_number():\n",
      "  File \"<ipython-input-1-aa6b189748f1>\", line 5, in get_number\n",
      "    for i in rang(100):\n",
      "NameError: name 'rang' is not defined\n",
      "\n"
     ]
    }
   ],
   "source": [
    "import threading\n",
    "import time\n",
    "\n",
    "def get_number():\n",
    "    for i in range(100):\n",
    "        yield i\n",
    "        \n",
    "class DoWork(threading.Thread):\n",
    "    def __init__(self):\n",
    "        threading.Thread.__init__(self)\n",
    "        \n",
    "    def run(self):\n",
    "        for item in get_number():\n",
    "            print(item)\n",
    "            time.sleep(1)\n",
    "            \n",
    "if __name__ == '__main__':\n",
    "    for i in range(5):\n",
    "        home = DoWork()\n",
    "        home.start()\n",
    "    \n",
    "    while True:\n",
    "        pass"
   ]
  },
  {
   "cell_type": "code",
   "execution_count": null,
   "metadata": {},
   "outputs": [],
   "source": []
  }
 ],
 "metadata": {
  "kernelspec": {
   "display_name": "Python 3",
   "language": "python",
   "name": "python3"
  },
  "language_info": {
   "codemirror_mode": {
    "name": "ipython",
    "version": 3
   },
   "file_extension": ".py",
   "mimetype": "text/x-python",
   "name": "python",
   "nbconvert_exporter": "python",
   "pygments_lexer": "ipython3",
   "version": "3.7.1"
  }
 },
 "nbformat": 4,
 "nbformat_minor": 2
}
