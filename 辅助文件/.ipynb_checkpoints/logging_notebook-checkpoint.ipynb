{
 "cells": [
  {
   "cell_type": "code",
   "execution_count": null,
   "metadata": {},
   "outputs": [],
   "source": [
    "import logging  # 引入logging模块\n",
    "import os.path\n",
    "import time\n",
    "\n",
    "\n",
    "# 初始化操作\n",
    "# logger = logging.basicConfig()\n",
    "\n",
    "# 第一步，创建一个logger\n",
    "logger = logging.getLogger()\n",
    "logger.setLevel(logging.INFO)  # Log等级总开关\n",
    "\n",
    "# 第二步，创建一个handler，用于写入日志文件\n",
    "rq = time.strftime('%Y%m%d%H%M', time.localtime(time.time()))\n",
    "log_path = os.getcwd() + '/Logs/'\n",
    "log_name = log_path + rq + '.log'\n",
    "logfile = log_name\n",
    "fh = logging.FileHandler(logfile, mode='w')\n",
    "fh.setLevel(logging.DEBUG)  # 输出到file的log等级的开关\n",
    "\n",
    "ch = logging.StreamHandler()\n",
    "ch.setLevel(logging.WARNING)  # 输出到console的log等级的开关\n",
    "\n",
    "# 第三步，定义handler的输出格式\n",
    "formatter = logging.Formatter(\"%(asctime)s - %(filename)s[line:%(lineno)d] - %(levelname)s: %(message)s\")\n",
    "fh.setFormatter(formatter)\n",
    "ch.setFormatter(formatter)\n",
    "\n",
    "# 第四步，将logger添加到handler里面\n",
    "logger.addHandler(fh)\n",
    "logger.addHandler(ch)\n",
    "\n",
    "# 日志\n",
    "logger.debug('this is a logger debug message')\n",
    "logger.info('this is a logger info message')\n",
    "logger.warning('this is a logger warning message')\n",
    "logger.error('this is a logger error message')\n",
    "logger.critical('this is a logger critical message')"
   ]
  },
  {
   "cell_type": "markdown",
   "metadata": {},
   "source": [
    "6、format常用格式说明\n",
    "%(levelno)s: 打印日志级别的数值\n",
    "%(levelname)s: 打印日志级别名称\n",
    "%(pathname)s: 打印当前执行程序的路径，其实就是sys.argv[0]\n",
    "%(filename)s: 打印当前执行程序名\n",
    "%(funcName)s: 打印日志的当前函数\n",
    "%(lineno)d: 打印日志的当前行号\n",
    "%(asctime)s: 打印日志的时间\n",
    "%(thread)d: 打印线程ID\n",
    "%(threadName)s: 打印线程名称\n",
    "%(process)d: 打印进程ID\n",
    "%(message)s: 打印日志信息"
   ]
  },
  {
   "cell_type": "code",
   "execution_count": null,
   "metadata": {},
   "outputs": [],
   "source": [
    "# 捕捉异常,用traceback记录\n",
    "# 关键参数是exc_info\n",
    "logger.error('Failed to open file', exc_info=True)"
   ]
  },
  {
   "cell_type": "code",
   "execution_count": null,
   "metadata": {},
   "outputs": [],
   "source": [
    "# 有关日志回滚的两个类\n",
    "RotaingFileHandler               # 根据日志文件的大小进行滚动\n",
    "TimeRotaingFileHandler           # 根据时间进行滚动"
   ]
  }
 ],
 "metadata": {
  "kernelspec": {
   "display_name": "Python 3",
   "language": "python",
   "name": "python3"
  },
  "language_info": {
   "codemirror_mode": {
    "name": "ipython",
    "version": 3
   },
   "file_extension": ".py",
   "mimetype": "text/x-python",
   "name": "python",
   "nbconvert_exporter": "python",
   "pygments_lexer": "ipython3",
   "version": "3.7.1"
  }
 },
 "nbformat": 4,
 "nbformat_minor": 2
}
